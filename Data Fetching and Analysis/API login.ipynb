{
 "cells": [
  {
   "cell_type": "code",
   "execution_count": null,
   "metadata": {
    "colab": {},
    "colab_type": "code",
    "id": "B-fZTZtItqwH"
   },
   "outputs": [],
   "source": [
    "import json\n",
    "import requests\n",
    "from io import StringIO"
   ]
  },
  {
   "cell_type": "code",
   "execution_count": null,
   "metadata": {
    "colab": {},
    "colab_type": "code",
    "id": "uOJ5vmrPJCVe"
   },
   "outputs": [],
   "source": [
    "req = requests.session()"
   ]
  },
  {
   "cell_type": "code",
   "execution_count": null,
   "metadata": {
    "colab": {},
    "colab_type": "code",
    "id": "BdsC9sgSuzcN"
   },
   "outputs": [],
   "source": [
    "base_url = ' https://awm16002.srv.wifi.arista.com/new/'"
   ]
  },
  {
   "cell_type": "code",
   "execution_count": null,
   "metadata": {
    "colab": {},
    "colab_type": "code",
    "id": "5h5ryNZr-k8C"
   },
   "outputs": [],
   "source": [
    "headers = {'Content-Type':'application/json'}"
   ]
  },
  {
   "cell_type": "code",
   "execution_count": null,
   "metadata": {
    "colab": {},
    "colab_type": "code",
    "id": "xpRNvP6S_Hfa"
   },
   "outputs": [],
   "source": [
    "body = {'type':'apikeycredentials','keyId':'###########','keyValue':'#################'}"
   ]
  },
  {
   "cell_type": "code",
   "execution_count": null,
   "metadata": {
    "colab": {},
    "colab_type": "code",
    "id": "yoKQoKTJ_mLC"
   },
   "outputs": [],
   "source": [
    "def login():\n",
    "  url = base_url + 'webservice/login/modScanWifi/86400'\n",
    "  response = req.post(url,json=body,headers=headers)\n",
    "  if response.status_code == 200:\n",
    "    print('Login Successful')\n",
    "  else:\n",
    "    print('Login Failed\\nError Code -',response.status_code)"
   ]
  },
  {
   "cell_type": "code",
   "execution_count": null,
   "metadata": {
    "colab": {},
    "colab_type": "code",
    "id": "woqrmlNUBPyZ"
   },
   "outputs": [],
   "source": [
    "def get_analytics(start_date='1561055400000',end_date='1561437000000'):\n",
    "  url = base_url + 'webservice/v2/analytics/associationdata/'+ start_date + '/' + end_date + '?format=\"CSV\"&tohashmac=false'\n",
    "  response = req.get(url,headers=headers)\n",
    "  if response.status_code == 200:\n",
    "    print('OK')\n",
    "    return response.text\n",
    "  else:\n",
    "    print('Failed\\nError_Code -',response.status_code)\n",
    "    return None"
   ]
  },
  {
   "cell_type": "code",
   "execution_count": null,
   "metadata": {
    "colab": {},
    "colab_type": "code",
    "id": "7idnSM3FE-wp"
   },
   "outputs": [],
   "source": [
    "def dwnld_analytics():\n",
    "  link = str(get_analytics())\n",
    "  if link is not None:\n",
    "    url = base_url + link\n",
    "    response = req.get(url)\n",
    "    csv_string = StringIO(response.text)\n",
    "    with open('data.csv', 'w') as f:\n",
    "      for line in csv_string:\n",
    "        f.write(line)"
   ]
  },
  {
   "cell_type": "code",
   "execution_count": null,
   "metadata": {
    "colab": {
     "base_uri": "https://localhost:8080/",
     "height": 54
    },
    "colab_type": "code",
    "id": "U9psr82DIP0O",
    "outputId": "010e0db0-c679-4796-9872-6fb3fa21988f"
   },
   "outputs": [
    {
     "data": {
      "text/plain": [
       "\"def assoc(mac_add='f8:28:19:89:d4:3d',protocol = '1'):\\n  url = base_url + 'webservice/v2/associations/infrastructure/aps/' + mac_add + '/' +protocol\\n  response = req.get(url,headers=headers)\\n  if response.status_code == 200:\\n    print('OK')\\n    return json.loads(response.content.decode('utf-8'))\\n  else:\\n    print('Failed\\nError_Code -',response.status_code)\\n    return None\""
      ]
     },
     "execution_count": 36,
     "metadata": {
      "tags": []
     },
     "output_type": "execute_result"
    }
   ],
   "source": [
    "'''def assoc(mac_add='##########',protocol = '1'):\n",
    "  url = base_url + 'webservice/v2/associations/infrastructure/aps/' + mac_add + '/' +protocol\n",
    "  response = req.get(url,headers=headers)\n",
    "  if response.status_code == 200:\n",
    "    print('OK')\n",
    "    return json.loads(response.content.decode('utf-8'))\n",
    "  else:\n",
    "    print('Failed\\nError_Code -',response.status_code)\n",
    "    return None'''"
   ]
  },
  {
   "cell_type": "code",
   "execution_count": null,
   "metadata": {
    "colab": {
     "base_uri": "https://localhost:8080/",
     "height": 34
    },
    "colab_type": "code",
    "id": "4CEoXpGFPKyV",
    "outputId": "04cbadf9-77e5-455a-951d-9ee12757ba66"
   },
   "outputs": [
    {
     "data": {
      "text/plain": [
       "'client_assoc = assoc()\\nif client_assoc is not None:\\n  print(client_assoc)'"
      ]
     },
     "execution_count": 37,
     "metadata": {
      "tags": []
     },
     "output_type": "execute_result"
    }
   ],
   "source": [
    "'''client_assoc = assoc()\n",
    "if client_assoc is not None:\n",
    "  print(client_assoc)'''"
   ]
  },
  {
   "cell_type": "code",
   "execution_count": null,
   "metadata": {
    "colab": {
     "base_uri": "https://localhost:8080/",
     "height": 34
    },
    "colab_type": "code",
    "id": "OZG5UkdaXROT",
    "outputId": "589bf161-f9e6-42c3-8362-4a235cbe55f1"
   },
   "outputs": [
    {
     "name": "stdout",
     "output_type": "stream",
     "text": [
      "Login Successful\n"
     ]
    }
   ],
   "source": [
    "login()"
   ]
  }
 ],
 "metadata": {
  "colab": {
   "collapsed_sections": [],
   "name": "Untitled9.ipynb",
   "provenance": []
  },
  "kernelspec": {
   "display_name": "Python 3",
   "language": "python",
   "name": "python3"
  },
  "language_info": {
   "codemirror_mode": {
    "name": "ipython",
    "version": 3
   },
   "file_extension": ".py",
   "mimetype": "text/x-python",
   "name": "python",
   "nbconvert_exporter": "python",
   "pygments_lexer": "ipython3",
   "version": "3.7.3"
  }
 },
 "nbformat": 4,
 "nbformat_minor": 1
}
